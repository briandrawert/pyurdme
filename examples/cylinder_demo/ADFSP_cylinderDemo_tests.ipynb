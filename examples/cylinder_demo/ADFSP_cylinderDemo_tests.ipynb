{
 "metadata": {
  "kernelspec": {
   "codemirror_mode": {
    "name": "python",
    "version": 2
   },
   "display_name": "Python 2",
   "language": "python",
   "name": "python2"
  },
  "name": "",
  "signature": "sha256:468b2779dd2f5a26e79f57a2a370fd2bc5499ad37fbf2f832caf19be19586977"
 },
 "nbformat": 3,
 "nbformat_minor": 0,
 "worksheets": [
  {
   "cells": [
    {
     "cell_type": "code",
     "collapsed": false,
     "input": [
      "from pyurdme.adfsp_solver import ADFSPSolver\n",
      "from examples.cylinder_demo.cylinder_demo3D import cylinderDemo3D\n",
      "import pyurdme\n",
      "import time\n",
      "import scipy.fftpack"
     ],
     "language": "python",
     "metadata": {},
     "outputs": [],
     "prompt_number": 2
    },
    {
     "cell_type": "code",
     "collapsed": false,
     "input": [
      "model = cylinderDemo3D()\n",
      "sol = ADFSPSolver(model, report_level=1)\n",
      "print \"Attempting to compile\"\n",
      "sol.compile()\n",
      "print \"Beginning simulation\"\n",
      "t1 = time.time()\n",
      "result = sol.run()\n",
      "print \"Simulation complete in {0}s\".format(time.time()-t1)\n"
     ],
     "language": "python",
     "metadata": {},
     "outputs": [
      {
       "output_type": "stream",
       "stream": "stdout",
       "text": [
        "Attempting to compile\n",
        "Compiling Solver\n",
        "Beginning simulation\n",
        "cmd: ['/var/folders/8q/tsp4_pxd327bjvgkxp51gp7w0000gn/T/tmpDyc9hG/.urdme/cylinder_demo3d_pyurdme_generated_model.adaptive_dfsp', '/var/folders/8q/tsp4_pxd327bjvgkxp51gp7w0000gn/T/tmpF4miC0', '/var/folders/8q/tsp4_pxd327bjvgkxp51gp7w0000gn/T/tmpePMjsg']\n",
        "\n",
        "Simulation complete in 9.72113609314s\n"
       ]
      }
     ],
     "prompt_number": 3
    },
    {
     "cell_type": "code",
     "collapsed": false,
     "input": [
      "print result.stdout"
     ],
     "language": "python",
     "metadata": {},
     "outputs": [
      {
       "output_type": "stream",
       "stream": "stdout",
       "text": [
        "Ncells:1068 Mspecies: 2writer = get_urdme_output_writer(model,/var/folders/8q/tsp4_pxd327bjvgkxp51gp7w0000gn/T/tmpePMjsg);\n",
        "dfsp_core\n",
        "0% done.\n",
        "min_rxn_timestep=5.000000e-03\n",
        "Starting State-Space Exploration (uniformization): tau=1.000000e+00 tol=1.000000e-03 max=3\n",
        "\tComplete: elapsed: 1.460631e+00s, error=1.000000e-03 Nmax=231\n",
        "0% done.\n",
        "1% done.\n",
        "1% done.\n",
        "2% done.\n",
        "2% done.\n",
        "3% done.\n",
        "3% done.\n",
        "4% done.\n",
        "4% done.\n",
        "5% done.\n",
        "5% done.\n",
        "Starting State-Space Exploration (uniformization): tau=3.125000e-02 tol=1.000000e-03 max=3\n",
        "\tComplete: elapsed: 2.897630e-01s, error=1.000000e-03 Nmax=56\n",
        "6% done.\n",
        "6% done.\n",
        "7% done.\n",
        "7% done.\n",
        "8% done.\n",
        "8% done.\n",
        "9% done.\n",
        "9% done.\n",
        "10% done.\n",
        "Starting State-Space Exploration (uniformization): tau=6.250000e-02 tol=1.000000e-03 max=3\n",
        "\tComplete: elapsed: 4.844690e-01s, error=1.000000e-03 Nmax=92\n",
        "10% done.\n",
        "11% done.\n",
        "11% done.\n",
        "12% done.\n",
        "12% done.\n",
        "13% done.\n",
        "13% done.\n",
        "14% done.\n",
        "14% done.\n",
        "15% done.\n",
        "15% done.\n",
        "16% done.\n",
        "16% done.\n",
        "17% done.\n",
        "17% done.\n",
        "18% done.\n",
        "18% done.\n",
        "19% done.\n",
        "19% done.\n",
        "20% done.\n",
        "20% done.\n",
        "21% done.\n",
        "21% done.\n",
        "22% done.\n",
        "22% done.\n",
        "23% done.\n",
        "23% done.\n",
        "24% done.\n",
        "24% done.\n",
        "25% done.\n",
        "25% done.\n",
        "26% done.\n",
        "26% done.\n",
        "27% done.\n",
        "27% done.\n",
        "28% done.\n",
        "28% done.\n",
        "29% done.\n",
        "29% done.\n",
        "30% done.\n",
        "30% done.\n",
        "31% done.\n",
        "31% done.\n",
        "32% done.\n",
        "32% done.\n",
        "33% done.\n",
        "33% done.\n",
        "34% done.\n",
        "34% done.\n",
        "35% done.\n",
        "35% done.\n",
        "36% done.\n",
        "36% done.\n",
        "37% done.\n",
        "37% done.\n",
        "38% done.\n",
        "38% done.\n",
        "39% done.\n",
        "39% done.\n",
        "40% done.\n",
        "40% done.\n",
        "41% done.\n",
        "41% done.\n",
        "42% done.\n",
        "42% done.\n",
        "43% done.\n",
        "43% done.\n",
        "44% done.\n",
        "44% done.\n",
        "45% done.\n",
        "45% done.\n",
        "46% done.\n",
        "46% done.\n",
        "47% done.\n",
        "47% done.\n",
        "48% done.\n",
        "48% done.\n",
        "49% done.\n",
        "49% done.\n",
        "50% done.\n",
        "50% done.\n",
        "51% done.\n",
        "51% done.\n",
        "52% done.\n",
        "52% done.\n",
        "53% done.\n",
        "53% done.\n",
        "54% done.\n",
        "54% done.\n",
        "55% done.\n",
        "55% done.\n",
        "56% done.\n",
        "56% done.\n",
        "57% done.\n",
        "57% done.\n",
        "58% done.\n",
        "58% done.\n",
        "59% done.\n",
        "59% done.\n",
        "60% done.\n",
        "60% done.\n",
        "61% done.\n",
        "61% done.\n",
        "62% done.\n",
        "62% done.\n",
        "63% done.\n",
        "63% done.\n",
        "64% done.\n",
        "64% done.\n",
        "65% done.\n",
        "65% done.\n",
        "66% done.\n",
        "66% done.\n",
        "67% done.\n",
        "67% done.\n",
        "68% done.\n",
        "68% done.\n",
        "69% done.\n",
        "69% done.\n",
        "70% done.\n",
        "70% done.\n",
        "71% done.\n",
        "71% done.\n",
        "72% done.\n",
        "72% done.\n",
        "73% done.\n",
        "73% done.\n",
        "74% done.\n",
        "74% done.\n",
        "75% done.\n",
        "75% done.\n",
        "76% done.\n",
        "76% done.\n",
        "77% done.\n",
        "77% done.\n",
        "78% done.\n",
        "78% done.\n",
        "79% done.\n",
        "79% done.\n",
        "80% done.\n",
        "80% done.\n",
        "81% done.\n",
        "81% done.\n",
        "82% done.\n",
        "82% done.\n",
        "83% done.\n",
        "83% done.\n",
        "84% done.\n",
        "84% done.\n",
        "85% done.\n",
        "85% done.\n",
        "86% done.\n",
        "86% done.\n",
        "87% done.\n",
        "87% done.\n",
        "88% done.\n",
        "88% done.\n",
        "89% done.\n",
        "89% done.\n",
        "90% done.\n",
        "90% done.\n",
        "91% done.\n",
        "91% done.\n",
        "92% done.\n",
        "92% done.\n",
        "93% done.\n",
        "93% done.\n",
        "94% done.\n",
        "94% done.\n",
        "95% done.\n",
        "95% done.\n",
        "96% done.\n",
        "96% done.\n",
        "97% done.\n",
        "97% done.\n",
        "98% done.\n",
        "98% done.\n",
        "99% done.\n",
        "100% done.\n",
        "cleanup_dfsp_lookuptable() cache_size=3\n",
        "\ttau=2.500000e-01\t\t\t2.500000e-01\n",
        "\ttau=3.125000e-02\t\t\t3.125000e-02\n",
        "\ttau=6.250000e-02\t\t\t6.250000e-02\n",
        "write_tspan\n",
        "destroy_output_writer\n",
        "destroy_model\n",
        "\n"
       ]
      }
     ],
     "prompt_number": 4
    },
    {
     "cell_type": "code",
     "collapsed": false,
     "input": [
      "print result.stderr"
     ],
     "language": "python",
     "metadata": {},
     "outputs": [
      {
       "output_type": "stream",
       "stream": "stdout",
       "text": [
        "\n"
       ]
      }
     ],
     "prompt_number": 5
    },
    {
     "cell_type": "code",
     "collapsed": false,
     "input": [
      "import numpy\n",
      "%pylab inline\n",
      "print \"Plotting solution\"\n",
      "# Plot of the time-average spatial concentration.\n",
      "x_vals = model.mesh.coordinates()[:, 0]\n",
      "A_vals = numpy.mean(result.get_species(\"A\", concentration=True), axis=0)\n",
      "B_vals = numpy.mean(result.get_species(\"B\", concentration=True), axis=0)\n",
      "plt.plot(x_vals,A_vals,'.r',x_vals,B_vals,'.b')\n",
      "plt.legend(['A', 'B'])"
     ],
     "language": "python",
     "metadata": {},
     "outputs": [
      {
       "output_type": "stream",
       "stream": "stdout",
       "text": [
        "Populating the interactive namespace from numpy and matplotlib\n",
        "Plotting solution\n"
       ]
      },
      {
       "metadata": {},
       "output_type": "pyout",
       "prompt_number": 8,
       "text": [
        "<matplotlib.legend.Legend at 0x1103d9590>"
       ]
      },
      {
       "metadata": {},
       "output_type": "display_data",
       "png": "[encoded data removed]",
       "text": [
        "<matplotlib.figure.Figure at 0x1103d9610>"
       ]
      }
     ],
     "prompt_number": 8
    },
    {
     "cell_type": "code",
     "collapsed": false,
     "input": [
      "sol = ADFSPSolver(model, report_level=0)\n",
      "print \"Attempting to compile\"\n",
      "sol.compile()\n",
      "N = 100\n",
      "run_times = []\n",
      "print \"Beginning simulation:\"\n",
      "for n in range(N):\n",
      "    sys.stdout.write(str(n))\n",
      "    sys.stdout.flush()\n",
      "    t1 = time.time()\n",
      "    result = sol.run()\n",
      "    elapsed_time = time.time()-t1\n",
      "    run_times.append(elapsed_time)\n",
      "print \"Simulation of {0} trajectories: avg={1} std={2}\".format(N, numpy.mean(run_times), numpy.std(run_times))"
     ],
     "language": "python",
     "metadata": {},
     "outputs": [
      {
       "output_type": "stream",
       "stream": "stdout",
       "text": [
        "Attempting to compile\n",
        "Beginning simulation:\n",
        "0123"
       ]
      }
     ]
    },
    {
     "cell_type": "code",
     "collapsed": false,
     "input": [
      "from pyurdme.nsmsolver import NSMSolver\n",
      "nsm = NSMSolver(model, report_level=0)\n",
      "print \"NSM: Attempting to compile\"\n",
      "nsm.compile()\n",
      "N = 100\n",
      "nsm_times = []\n",
      "print \"NSM: Beginning simulation:\",\n",
      "for n in range(N):\n",
      "    sys.stdout.write(str(n))\n",
      "    sys.stdout.flush()\n",
      "    t1 = time.time()\n",
      "    result = nsm.run()\n",
      "    elapsed_time = time.time()-t1\n",
      "    nsm_times.append(elapsed_time)\n",
      "print \"\"\n",
      "print \"NSM: Simulation of {0} trajectories: avg={1} std={2}\".format(N, numpy.mean(nsm_times), numpy.std(nsm_times))"
     ],
     "language": "python",
     "metadata": {},
     "outputs": [
      {
       "output_type": "stream",
       "stream": "stdout",
       "text": [
        "NSM: Attempting to compile\n",
        "NSM: Beginning simulation:0123456789101112131415161718192021222324252627282930313233343536373839404142434445464748495051525354555657585960616263646566676869707172737475767778798081828384858687888990919293949596979899 \n",
        "NSM: Simulation of 100 trajectories: avg=3.97554760456 std=0.0786019587534\n"
       ]
      }
     ],
     "prompt_number": 7
    },
    {
     "cell_type": "code",
     "collapsed": false,
     "input": [],
     "language": "python",
     "metadata": {},
     "outputs": []
    },
    {
     "cell_type": "code",
     "collapsed": false,
     "input": [],
     "language": "python",
     "metadata": {},
     "outputs": []
    }
   ],
   "metadata": {}
  }
 ]
}